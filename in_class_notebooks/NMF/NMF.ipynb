{
 "cells": [
  {
   "cell_type": "code",
   "execution_count": 160,
   "metadata": {},
   "outputs": [],
   "source": [
    "import numpy as np\n",
    "from sklearn.decomposition import NMF\n",
    "import time\n",
    "import copy\n",
    "import math"
   ]
  },
  {
   "cell_type": "code",
   "execution_count": 2,
   "metadata": {},
   "outputs": [],
   "source": [
    "X = np.array(np.random.choice([0,1],(100,20)))"
   ]
  },
  {
   "cell_type": "code",
   "execution_count": 3,
   "metadata": {},
   "outputs": [
    {
     "data": {
      "text/plain": [
       "array([[0, 1, 0, ..., 1, 0, 0],\n",
       "       [1, 1, 1, ..., 0, 0, 0],\n",
       "       [0, 0, 1, ..., 0, 1, 1],\n",
       "       ...,\n",
       "       [1, 1, 1, ..., 0, 0, 1],\n",
       "       [0, 0, 0, ..., 1, 0, 1],\n",
       "       [1, 0, 0, ..., 1, 0, 1]])"
      ]
     },
     "execution_count": 3,
     "metadata": {},
     "output_type": "execute_result"
    }
   ],
   "source": [
    "X"
   ]
  },
  {
   "cell_type": "code",
   "execution_count": 177,
   "metadata": {},
   "outputs": [
    {
     "name": "stdout",
     "output_type": "stream",
     "text": [
      "0.9999198397591527 0.0012847959517654495 0.5050774024981401 11.696617063902842\n",
      "0.9884203699164539 0.01812722522682697 0.5960600620235329 5.800078484076025\n"
     ]
    }
   ],
   "source": [
    "#use the same init\n",
    "W0=np.random.random((X.shape[0],n_factors))\n",
    "H0=np.random.random((n_factors,X.shape[1]))\n",
    "print(W0.max(), W0.min(), W0.mean(), np.linalg.norm(W0))\n",
    "print(H0.max(), H0.min(), H0.mean(), np.linalg.norm(H0))"
   ]
  },
  {
   "cell_type": "code",
   "execution_count": 258,
   "metadata": {},
   "outputs": [
    {
     "name": "stdout",
     "output_type": "stream",
     "text": [
      "(100, 4) (4, 20)\n",
      "0.7688247955222398 0.0 0.1934709000385137 5.095430951156261\n",
      "3.8199864449578453 0.0 0.6750046714050557 8.898555345810424\n",
      "{'alpha': 0.0, 'beta_loss': 'frobenius', 'init': 'custom', 'l1_ratio': 0.0, 'max_iter': 500, 'n_components': 4, 'random_state': None, 'shuffle': False, 'solver': 'cd', 'tol': 0.0001, 'verbose': 0}\n",
      "CPU times: user 0 ns, sys: 15.6 ms, total: 15.6 ms\n",
      "Wall time: 11.9 ms\n"
     ]
    }
   ],
   "source": [
    "%%time\n",
    "n_factors=4\n",
    "nmf = NMF(n_components=n_factors, init='custom',max_iter=500)\n",
    "W = nmf.fit_transform(X,W=W0.astype(np.double),H=H0.astype(np.double)) #corresponding to the U matrix\n",
    "H = nmf.components_ #corresponding to the V matrix\n",
    "print(W.shape, H.shape)\n",
    "print(W.max(), W.min(), W.mean(), np.linalg.norm(W))\n",
    "print(H.max(), H.min(), H.mean(), np.linalg.norm(H))\n",
    "print(nmf.get_params())"
   ]
  },
  {
   "cell_type": "code",
   "execution_count": 251,
   "metadata": {},
   "outputs": [
    {
     "data": {
      "text/plain": [
       "208"
      ]
     },
     "execution_count": 251,
     "metadata": {},
     "output_type": "execute_result"
    }
   ],
   "source": [
    "nmf.n_iter_"
   ]
  },
  {
   "cell_type": "code",
   "execution_count": 254,
   "metadata": {},
   "outputs": [],
   "source": [
    "# manual decomposition\n",
    "def updateU(X,U,V,n_factors,gamma=0.01):\n",
    "    perm = np.array(range(n_factors))\n",
    "    np.random.shuffle(perm)    \n",
    "    #Uc=copy.deepcopy(U)\n",
    "    for k in perm:\n",
    "        for i in range(X.shape[0]):\n",
    "            grad=0\n",
    "            Z=0\n",
    "            for j in range(X.shape[1]):\n",
    "                grad+=(X[i,j]-np.dot(U[i,:],V[:,j])+U[i,k]*V[k,j])*V[k,j]\n",
    "                Z += V[k,j]*V[k,j] \n",
    "#             grad =  np.sum(V[k,:]*(X[i,:]-np.dot(U[i,:],V[:])+(U[i,k]*V[k,:])))   \n",
    "#             Z = np.sum(np.square(V[k,:]))    \n",
    "            U[i,k]=(1-gamma)*U[i,k]+gamma*(grad/Z-U[i,k])  #moving average    \n",
    "    return U         \n",
    "\n",
    "def updateV(X,U,V, n_factors,gamma=0.01):\n",
    "    perm = np.array(range(n_factors))\n",
    "    np.random.shuffle(perm)\n",
    "    #Vc=copy.deepcopy(V)\n",
    "    for k in perm:\n",
    "        for j in range(X.shape[1]):\n",
    "#             grad=0\n",
    "#             Z=0\n",
    "#             for i in range(X.shape[0]):\n",
    "#                 grad += (X[i,j]-np.dot(U[i,:],V[:,j])+U[i,k]*V[k,j])*U[i,k]\n",
    "#                 Z += U[i,k]*U[i,k]\n",
    "            grad =  np.sum(U[:,k]*(X[:,j]-np.dot(U[:],V[:,j])+V[k,j]*U[:,k]))   \n",
    "            Z = np.sum(np.square(U[:,k]))  \n",
    "            V[k,j]=(1-gamma)*V[k,j]+gamma*(grad/Z-V[k,j])   #moving average  \n",
    "            \n",
    "    return V\n",
    "\n",
    "     \n",
    "\n",
    "def decomposeMatrixU(X,U,V,n_factors):\n",
    "    for r in range(0,X.shape[0]):\n",
    "        for s in range(0,n_factors):\n",
    "            m_array=np.array(X[r,:])\n",
    "            v_array=np.array(V[s,:])\n",
    "            v_array[np.isnan(m_array)]=np.nan\n",
    "            # print m_array\n",
    "            # print v_array\n",
    "            denominator=np.nansum(np.square(v_array))\n",
    "            # print denominator\n",
    "            sum_array=np.matmul(U[r,:],V[:])-(U[r,s]*V[s,:])\n",
    "            # # print sum_array\n",
    "            numerator=np.nansum(V[s,:]*(m_array-sum_array))\n",
    "            # numerator = np.nansum(V[s, :] * sum)\n",
    "            # print numerator\n",
    "            U[r,s]=float(numerator)/denominator\n",
    "    return U\n",
    "\n",
    "def decomposeMatrixV(X,U,V,n_factors):\n",
    "    for s in range(0,X.shape[1]):\n",
    "        for r in range(0,n_factors):\n",
    "            m_array=np.array(X[:,s])\n",
    "            u_array=np.array(U[:,r])\n",
    "            u_array[np.isnan(m_array)]=np.nan\n",
    "            # print m_array\n",
    "            # print v_array\n",
    "            denominator=np.nansum(np.square(u_array))\n",
    "            # print denominator\n",
    "            sum_array = np.matmul(U[:], V[:,s]) - (V[r, s] * U[:, r])\n",
    "            # print sum_array\n",
    "            numerator = np.nansum(U[:, r] * (m_array - sum_array))\n",
    "            # print numerator\n",
    "            V[r,s]=float(numerator)/denominator\n",
    "\n",
    "    return V"
   ]
  },
  {
   "cell_type": "code",
   "execution_count": 222,
   "metadata": {},
   "outputs": [
    {
     "data": {
      "text/plain": [
       "(100, 4)"
      ]
     },
     "execution_count": 222,
     "metadata": {},
     "output_type": "execute_result"
    }
   ],
   "source": [
    "U.shape"
   ]
  },
  {
   "cell_type": "code",
   "execution_count": 223,
   "metadata": {},
   "outputs": [
    {
     "data": {
      "text/plain": [
       "(4, 20)"
      ]
     },
     "execution_count": 223,
     "metadata": {},
     "output_type": "execute_result"
    }
   ],
   "source": [
    "V.shape"
   ]
  },
  {
   "cell_type": "code",
   "execution_count": 224,
   "metadata": {},
   "outputs": [
    {
     "data": {
      "text/plain": [
       "0.987611081495809"
      ]
     },
     "execution_count": 224,
     "metadata": {},
     "output_type": "execute_result"
    }
   ],
   "source": [
    "np.matmul(U[5,:],V[:,5])"
   ]
  },
  {
   "cell_type": "code",
   "execution_count": 228,
   "metadata": {},
   "outputs": [
    {
     "data": {
      "text/plain": [
       "(20,)"
      ]
     },
     "execution_count": 228,
     "metadata": {},
     "output_type": "execute_result"
    }
   ],
   "source": [
    "ss = np.matmul(U[5,:],V[:])-(U[5,2]*V[2,:])\n",
    "ss.shape"
   ]
  },
  {
   "cell_type": "code",
   "execution_count": 242,
   "metadata": {},
   "outputs": [],
   "source": [
    "def NMF1(X,U,V,n_factors,itr=500,tol=0.0001,gamma=0.1):\n",
    "    i=0\n",
    "    ut = math.inf\n",
    "    vt = math.inf\n",
    "    while (i < itr)and((ut>tol)or(vt>tol)):\n",
    "        Uc = copy.deepcopy(U)\n",
    "        Vc = copy.deepcopy(V)\n",
    "        U = updateU(X, U, V, n_factors,gamma)\n",
    "        V = updateV(X, U, V, n_factors,gamma)\n",
    "        ut = np.linalg.norm(Uc-U)\n",
    "        vt = np.linalg.norm(Vc-V)\n",
    "        i+=1\n",
    "#         print(i)\n",
    "#         print(Uc-U)\n",
    "#         print('----')\n",
    "#         print(Vc-V)\n",
    "    meta=[i,ut,vt]    \n",
    "    return U, V, meta    \n",
    "\n",
    "def NMF3(X,U,V,n_factors,itr=500,tol=0.0001,gamma=0.01):\n",
    "    i=0\n",
    "    ut = math.inf\n",
    "    vt = math.inf     \n",
    "    while (i < itr)and((ut>tol)or(vt>tol)):\n",
    "        Uc = copy.deepcopy(U)\n",
    "        Vc = copy.deepcopy(V)\n",
    "        U = decomposeMatrixU(X, U, V, n_factors)\n",
    "        V = decomposeMatrixV(X, U, V, n_factors)\n",
    "        ut = np.linalg.norm(Uc-U)\n",
    "        vt = np.linalg.norm(Vc-V)\n",
    "        i+=1\n",
    "    meta=[i,ut,vt]    \n",
    "    return U, V, meta \n"
   ]
  },
  {
   "cell_type": "code",
   "execution_count": 256,
   "metadata": {},
   "outputs": [
    {
     "name": "stdout",
     "output_type": "stream",
     "text": [
      "0.6319241363195505 -0.08579651660109754 0.26618831867116954 6.011534977518354\n",
      "0.7170860558815941 -0.016879735734705227 0.35722062599171267 3.495352367096476\n",
      "[676, 9.9932928606872e-05, 5.645530880129517e-05]\n",
      "CPU times: user 5.48 s, sys: 15.6 ms, total: 5.5 s\n",
      "Wall time: 5.46 s\n"
     ]
    }
   ],
   "source": [
    "%%time\n",
    "n_factors=4\n",
    "U0 = copy.deepcopy(W0)\n",
    "V0= copy.deepcopy(H0)\n",
    "U, V, meta = NMF1(X,U0,V0, n_factors,itr=1000)\n",
    "print(U.max(), U.min(), U.mean(), np.linalg.norm(U))\n",
    "print(V.max(), V.min(), V.mean(), np.linalg.norm(V)) \n",
    "print(meta)"
   ]
  },
  {
   "cell_type": "code",
   "execution_count": 263,
   "metadata": {},
   "outputs": [
    {
     "data": {
      "text/plain": [
       "0.00813984187728096"
      ]
     },
     "execution_count": 263,
     "metadata": {},
     "output_type": "execute_result"
    }
   ],
   "source": [
    "np.linalg.norm(W-U)/(W.shape[0]*W.shape[1])"
   ]
  },
  {
   "cell_type": "code",
   "execution_count": 264,
   "metadata": {},
   "outputs": [
    {
     "data": {
      "text/plain": [
       "0.0819135651467521"
      ]
     },
     "execution_count": 264,
     "metadata": {},
     "output_type": "execute_result"
    }
   ],
   "source": [
    "np.linalg.norm(H-V)/(H.shape[0]*H.shape[1])"
   ]
  },
  {
   "cell_type": "code",
   "execution_count": 266,
   "metadata": {},
   "outputs": [
    {
     "data": {
      "text/plain": [
       "0.45553819404999096"
      ]
     },
     "execution_count": 266,
     "metadata": {},
     "output_type": "execute_result"
    }
   ],
   "source": [
    "np.abs(W-U).max()"
   ]
  },
  {
   "cell_type": "code",
   "execution_count": 267,
   "metadata": {},
   "outputs": [
    {
     "data": {
      "text/plain": [
       "3.1528629780423176"
      ]
     },
     "execution_count": 267,
     "metadata": {},
     "output_type": "execute_result"
    }
   ],
   "source": [
    "np.abs(H-V).max()"
   ]
  },
  {
   "cell_type": "code",
   "execution_count": 257,
   "metadata": {},
   "outputs": [
    {
     "name": "stdout",
     "output_type": "stream",
     "text": [
      "0.6914379259324408 -0.11191990704326878 0.2865170759786061 6.410627771934041\n",
      "0.6671234669155278 -0.00011333148372243256 0.3331174343683225 3.228996215865496\n",
      "[1000, 0.0011192894479192213, 0.0005624045502499443]\n"
     ]
    }
   ],
   "source": [
    "n_factors=4\n",
    "U0 = copy.deepcopy(W0)\n",
    "V0= copy.deepcopy(H0)\n",
    "U, V, meta = NMF1(X,U0,V0, n_factors,itr=1000,gamma=0.01)\n",
    "print(U.max(), U.min(), U.mean(), np.linalg.norm(U))\n",
    "print(V.max(), V.min(), V.mean(), np.linalg.norm(V)) \n",
    "print(meta)"
   ]
  },
  {
   "cell_type": "code",
   "execution_count": 248,
   "metadata": {},
   "outputs": [
    {
     "name": "stdout",
     "output_type": "stream",
     "text": [
      "1.5523637237972334 -2.092333532178523 0.18197799476995008 11.599558107582803\n",
      "1.4963437813150864 -0.4678873733180615 0.583189184133489 6.1145425348572084\n",
      "[370, 9.919717358842047e-05, 2.0977671109825914e-05]\n",
      "CPU times: user 5.69 s, sys: 0 ns, total: 5.69 s\n",
      "Wall time: 5.7 s\n"
     ]
    }
   ],
   "source": [
    "%%time\n",
    "n_factors=4\n",
    "U0 = copy.deepcopy(W0)\n",
    "V0= copy.deepcopy(H0)\n",
    "U, V, meta = NMF3(X,U0,V0, n_factors,itr=500, gamma=0.01)\n",
    "print(U.max(), U.min(), U.mean(), np.linalg.norm(U))\n",
    "print(V.max(), V.min(), V.mean(), np.linalg.norm(V)) \n",
    "print(meta)"
   ]
  },
  {
   "cell_type": "code",
   "execution_count": 268,
   "metadata": {},
   "outputs": [],
   "source": [
    "Wstat=[]\n",
    "Hstat=[]\n",
    "Ustat=[]\n",
    "Vstat=[]\n",
    "\n",
    "for _ in range(20):\n",
    "    nmf = NMF(n_components=4, init='custom')\n",
    "    W = nmf.fit_transform(X,W=W0.astype(np.double),H=H0.astype(np.double)) #corresponding to the U matrix\n",
    "    H = nmf.components_\n",
    "    Wstat.append([W.max(), W.min(), W.mean(), np.linalg.norm(W)])\n",
    "    Hstat.append([H.max(), H.min(), H.mean(), np.linalg.norm(H)])   \n",
    "    \n",
    "    U0 = copy.deepcopy(W0)\n",
    "    V0= copy.deepcopy(H0)\n",
    "    U, V, meta = NMF1(X,U0,V0, n_factors,itr=500)\n",
    "    Ustat.append([U.max(), U.min(), U.mean(), np.linalg.norm(U)])\n",
    "    Vstat.append([V.max(), V.min(), V.mean(), np.linalg.norm(V)])\n",
    "    "
   ]
  },
  {
   "cell_type": "code",
   "execution_count": 72,
   "metadata": {},
   "outputs": [],
   "source": [
    "import matplotlib.pyplot as plt\n",
    "%matplotlib inline"
   ]
  },
  {
   "cell_type": "code",
   "execution_count": 272,
   "metadata": {},
   "outputs": [
    {
     "data": {
      "image/png": "[encoded data removed]",
      "text/plain": [
       "<Figure size 432x288 with 1 Axes>"
      ]
     },
     "metadata": {
      "needs_background": "light"
     },
     "output_type": "display_data"
    },
    {
     "data": {
      "image/png": "[encoded data removed]",
      "text/plain": [
       "<Figure size 432x288 with 1 Axes>"
      ]
     },
     "metadata": {
      "needs_background": "light"
     },
     "output_type": "display_data"
    },
    {
     "data": {
      "image/png": "[encoded data removed]",
      "text/plain": [
       "<Figure size 432x288 with 1 Axes>"
      ]
     },
     "metadata": {
      "needs_background": "light"
     },
     "output_type": "display_data"
    },
    {
     "data": {
      "image/png": "[encoded data removed]",
      "text/plain": [
       "<Figure size 432x288 with 1 Axes>"
      ]
     },
     "metadata": {
      "needs_background": "light"
     },
     "output_type": "display_data"
    }
   ],
   "source": [
    "Ws = np.array(Wstat)\n",
    "Us = np.array(Ustat)\n",
    "for k in range(Ws.shape[1]):\n",
    "    plt.plot(np.zeros(Ws[:,k].shape),Ws[:,k],'r.')\n",
    "    plt.plot(np.ones(Us[:,k].shape),Us[:,k],'b.')\n",
    "    plt.show()"
   ]
  },
  {
   "cell_type": "code",
   "execution_count": 273,
   "metadata": {},
   "outputs": [
    {
     "data": {
      "image/png": "[encoded data removed]",
      "text/plain": [
       "<Figure size 432x288 with 1 Axes>"
      ]
     },
     "metadata": {
      "needs_background": "light"
     },
     "output_type": "display_data"
    },
    {
     "data": {
      "image/png": "[encoded data removed]",
      "text/plain": [
       "<Figure size 432x288 with 1 Axes>"
      ]
     },
     "metadata": {
      "needs_background": "light"
     },
     "output_type": "display_data"
    },
    {
     "data": {
      "image/png": "[encoded data removed]",
      "text/plain": [
       "<Figure size 432x288 with 1 Axes>"
      ]
     },
     "metadata": {
      "needs_background": "light"
     },
     "output_type": "display_data"
    },
    {
     "data": {
      "image/png": "[encoded data removed]",
      "text/plain": [
       "<Figure size 432x288 with 1 Axes>"
      ]
     },
     "metadata": {
      "needs_background": "light"
     },
     "output_type": "display_data"
    }
   ],
   "source": [
    "Hs = np.array(Hstat)\n",
    "Vs = np.array(Vstat)\n",
    "for k in range(Ws.shape[1]):\n",
    "    plt.plot(np.zeros(Hs[:,k].shape),Hs[:,k],'r.')\n",
    "    plt.plot(np.ones(Vs[:,k].shape),Vs[:,k],'b.')\n",
    "    plt.show()"
   ]
  },
  {
   "cell_type": "code",
   "execution_count": 277,
   "metadata": {},
   "outputs": [
    {
     "data": {
      "text/plain": [
       "<matplotlib.image.AxesImage at 0x7fa49f7a0850>"
      ]
     },
     "execution_count": 277,
     "metadata": {},
     "output_type": "execute_result"
    },
    {
     "data": {
      "image/png": "[encoded data removed]",
      "text/plain": [
       "<Figure size 432x288 with 1 Axes>"
      ]
     },
     "metadata": {
      "needs_background": "light"
     },
     "output_type": "display_data"
    }
   ],
   "source": [
    "plt.imshow((W-U)[:20])"
   ]
  },
  {
   "cell_type": "code",
   "execution_count": 278,
   "metadata": {},
   "outputs": [
    {
     "data": {
      "text/plain": [
       "<matplotlib.image.AxesImage at 0x7fa49f6fce10>"
      ]
     },
     "execution_count": 278,
     "metadata": {},
     "output_type": "execute_result"
    },
    {
     "data": {
      "image/png": "[encoded data removed]",
      "text/plain": [
       "<Figure size 432x288 with 1 Axes>"
      ]
     },
     "metadata": {
      "needs_background": "light"
     },
     "output_type": "display_data"
    }
   ],
   "source": [
    "plt.imshow((H-V)[:,:20])"
   ]
  },
  {
   "cell_type": "code",
   "execution_count": 285,
   "metadata": {},
   "outputs": [
    {
     "name": "stdout",
     "output_type": "stream",
     "text": [
      "0.39585780763081174 -0.35908360225435765 -0.07284012837296377\n"
     ]
    }
   ],
   "source": [
    "print((W-U).max(),(W-U).min(),(W-U).mean())"
   ]
  },
  {
   "cell_type": "code",
   "execution_count": 284,
   "metadata": {},
   "outputs": [
    {
     "name": "stdout",
     "output_type": "stream",
     "text": [
      "3.1118537210500077 -0.46330538244013336 0.3180047581068767\n"
     ]
    }
   ],
   "source": [
    "print((H-V).max(),(H-V).min(),(H-V).mean())"
   ]
  },
  {
   "cell_type": "code",
   "execution_count": null,
   "metadata": {},
   "outputs": [],
   "source": []
  }
 ],
 "metadata": {
  "kernelspec": {
   "display_name": "Python 3",
   "language": "python",
   "name": "python3"
  },
  "language_info": {
   "codemirror_mode": {
    "name": "ipython",
    "version": 3
   },
   "file_extension": ".py",
   "mimetype": "text/x-python",
   "name": "python",
   "nbconvert_exporter": "python",
   "pygments_lexer": "ipython3",
   "version": "3.7.4"
  }
 },
 "nbformat": 4,
 "nbformat_minor": 2
}
