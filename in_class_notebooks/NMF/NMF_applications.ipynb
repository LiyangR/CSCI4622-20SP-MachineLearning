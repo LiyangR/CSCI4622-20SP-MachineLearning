{
 "cells": [
  {
   "cell_type": "code",
   "execution_count": 1,
   "metadata": {},
   "outputs": [],
   "source": [
    "import pickle\n",
    "import numpy\n",
    "from sklearn.decomposition import NMF\n",
    "import pandas as pd"
   ]
  },
  {
   "cell_type": "code",
   "execution_count": 2,
   "metadata": {},
   "outputs": [],
   "source": [
    "import pandas as pd"
   ]
  },
  {
   "cell_type": "code",
   "execution_count": 3,
   "metadata": {},
   "outputs": [],
   "source": [
    "d = pd.read_pickle(\"data/articles.pkl\")"
   ]
  },
  {
   "cell_type": "code",
   "execution_count": 4,
   "metadata": {},
   "outputs": [
    {
     "data": {
      "text/html": [
       "<div>\n",
       "<style scoped>\n",
       "    .dataframe tbody tr th:only-of-type {\n",
       "        vertical-align: middle;\n",
       "    }\n",
       "\n",
       "    .dataframe tbody tr th {\n",
       "        vertical-align: top;\n",
       "    }\n",
       "\n",
       "    .dataframe thead th {\n",
       "        text-align: right;\n",
       "    }\n",
       "</style>\n",
       "<table border=\"1\" class=\"dataframe\">\n",
       "  <thead>\n",
       "    <tr style=\"text-align: right;\">\n",
       "      <th></th>\n",
       "      <th>document_type</th>\n",
       "      <th>web_url</th>\n",
       "      <th>lead_paragraph</th>\n",
       "      <th>abstract</th>\n",
       "      <th>snippet</th>\n",
       "      <th>news_desk</th>\n",
       "      <th>word_count</th>\n",
       "      <th>source</th>\n",
       "      <th>section_name</th>\n",
       "      <th>subsection_name</th>\n",
       "      <th>_id</th>\n",
       "      <th>pub_date</th>\n",
       "      <th>print_page</th>\n",
       "      <th>headline</th>\n",
       "      <th>content</th>\n",
       "    </tr>\n",
       "  </thead>\n",
       "  <tbody>\n",
       "    <tr>\n",
       "      <td>0</td>\n",
       "      <td>article</td>\n",
       "      <td>http://www.nytimes.com/2013/10/03/sports/footb...</td>\n",
       "      <td>You would think that in a symmetric zero-sum s...</td>\n",
       "      <td>None</td>\n",
       "      <td>You would think that in a symmetric zero-sum s...</td>\n",
       "      <td>Sports</td>\n",
       "      <td>347</td>\n",
       "      <td>The New York Times</td>\n",
       "      <td>Sports</td>\n",
       "      <td>Pro Football</td>\n",
       "      <td>524d4e3a38f0d8198974001f</td>\n",
       "      <td>2013-10-03T00:00:00Z</td>\n",
       "      <td>None</td>\n",
       "      <td>Week 5 Probabilities: Why Offense Is More Impo...</td>\n",
       "      <td>the original goal building model football fore...</td>\n",
       "    </tr>\n",
       "    <tr>\n",
       "      <td>1</td>\n",
       "      <td>article</td>\n",
       "      <td>http://www.nytimes.com/2013/10/03/us/new-immig...</td>\n",
       "      <td>House Democrats on Wednesday unveiled an immig...</td>\n",
       "      <td>House Democrats unveil immigration bill that p...</td>\n",
       "      <td>House Democrats on Wednesday unveiled an immig...</td>\n",
       "      <td>National</td>\n",
       "      <td>83</td>\n",
       "      <td>The New York Times</td>\n",
       "      <td>U.S.</td>\n",
       "      <td>None</td>\n",
       "      <td>524cf71338f0d8198973ff7b</td>\n",
       "      <td>2013-10-03T00:00:00Z</td>\n",
       "      <td>21</td>\n",
       "      <td>New Immigration Bill Put Forward</td>\n",
       "      <td>house unveiled immigration bill provides path ...</td>\n",
       "    </tr>\n",
       "    <tr>\n",
       "      <td>2</td>\n",
       "      <td>article</td>\n",
       "      <td>http://www.nytimes.com/2013/10/03/us/arizona-j...</td>\n",
       "      <td>A federal judge on Wednesday ordered the appoi...</td>\n",
       "      <td>Federal Judge Murray Snow orders the appointme...</td>\n",
       "      <td>A federal judge on Wednesday ordered the appoi...</td>\n",
       "      <td>National</td>\n",
       "      <td>160</td>\n",
       "      <td>The New York Times</td>\n",
       "      <td>U.S.</td>\n",
       "      <td>None</td>\n",
       "      <td>524cf50e38f0d8198973ff79</td>\n",
       "      <td>2013-10-03T00:00:00Z</td>\n",
       "      <td>21</td>\n",
       "      <td>Arizona: Judge Orders Monitor to Oversee Maric...</td>\n",
       "      <td>federal judge wednesday ordered appointment in...</td>\n",
       "    </tr>\n",
       "    <tr>\n",
       "      <td>3</td>\n",
       "      <td>article</td>\n",
       "      <td>http://www.nytimes.com/2013/10/03/us/texas-sta...</td>\n",
       "      <td>Texas has turned to a compounding pharmacy to ...</td>\n",
       "      <td>Documents show that Texas, nation's most activ...</td>\n",
       "      <td>Texas has turned to a compounding pharmacy to ...</td>\n",
       "      <td>National</td>\n",
       "      <td>112</td>\n",
       "      <td>The New York Times</td>\n",
       "      <td>U.S.</td>\n",
       "      <td>None</td>\n",
       "      <td>524cf39a38f0d8198973ff78</td>\n",
       "      <td>2013-10-03T00:00:00Z</td>\n",
       "      <td>21</td>\n",
       "      <td>Texas: State Bought Execution Drugs From a Com...</td>\n",
       "      <td>texas nation’s active death-penalty state turn...</td>\n",
       "    </tr>\n",
       "    <tr>\n",
       "      <td>4</td>\n",
       "      <td>article</td>\n",
       "      <td>http://www.nytimes.com/2013/10/03/sports/tenni...</td>\n",
       "      <td>Rafael Nadal, aiming to end Novak Djokovic’s r...</td>\n",
       "      <td>None</td>\n",
       "      <td>Rafael Nadal, aiming to end Novak Djokovic’s r...</td>\n",
       "      <td>Sports</td>\n",
       "      <td>49</td>\n",
       "      <td>The New York Times</td>\n",
       "      <td>Sports</td>\n",
       "      <td>Tennis</td>\n",
       "      <td>524cf28b38f0d8198973ff73</td>\n",
       "      <td>2013-10-03T00:00:00Z</td>\n",
       "      <td>14</td>\n",
       "      <td>Nadal on Track for No. 1 Spot</td>\n",
       "      <td>rafael nadal aiming end novak djokovic’s run 1...</td>\n",
       "    </tr>\n",
       "    <tr>\n",
       "      <td>...</td>\n",
       "      <td>...</td>\n",
       "      <td>...</td>\n",
       "      <td>...</td>\n",
       "      <td>...</td>\n",
       "      <td>...</td>\n",
       "      <td>...</td>\n",
       "      <td>...</td>\n",
       "      <td>...</td>\n",
       "      <td>...</td>\n",
       "      <td>...</td>\n",
       "      <td>...</td>\n",
       "      <td>...</td>\n",
       "      <td>...</td>\n",
       "      <td>...</td>\n",
       "      <td>...</td>\n",
       "    </tr>\n",
       "    <tr>\n",
       "      <td>1400</td>\n",
       "      <td>article</td>\n",
       "      <td>http://www.nytimes.com/2013/10/01/us/politics/...</td>\n",
       "      <td>The federal government will shut down for the ...</td>\n",
       "      <td>\"Federal government will shut down for the fir...</td>\n",
       "      <td>The federal government will shut down for the ...</td>\n",
       "      <td>National</td>\n",
       "      <td>1227</td>\n",
       "      <td>The New York Times</td>\n",
       "      <td>U.S.</td>\n",
       "      <td>Politics</td>\n",
       "      <td>5249957e38f0d8198973f471</td>\n",
       "      <td>2013-10-01T00:00:00Z</td>\n",
       "      <td>1</td>\n",
       "      <td>Government Shuts Down in Budget Impasse</td>\n",
       "      <td>washington flurry last-minute move house senat...</td>\n",
       "    </tr>\n",
       "    <tr>\n",
       "      <td>1401</td>\n",
       "      <td>article</td>\n",
       "      <td>http://www.nytimes.com/2013/10/01/opinion/the-...</td>\n",
       "      <td>Al Shabab helps finance terrorist operations b...</td>\n",
       "      <td>None</td>\n",
       "      <td>Al Shabab helps finance terrorist operations b...</td>\n",
       "      <td>OpEd</td>\n",
       "      <td>781</td>\n",
       "      <td>International Herald Tribune</td>\n",
       "      <td>Opinion</td>\n",
       "      <td>None</td>\n",
       "      <td>524966da38f0d8198973f2ef</td>\n",
       "      <td>2013-10-01T00:00:00Z</td>\n",
       "      <td></td>\n",
       "      <td>The White Gold of Jihad</td>\n",
       "      <td>how carnage upscale shopping mall nairobi link...</td>\n",
       "    </tr>\n",
       "    <tr>\n",
       "      <td>1402</td>\n",
       "      <td>article</td>\n",
       "      <td>http://www.nytimes.com/2013/10/01/world/middle...</td>\n",
       "      <td>After several explosions struck Iraq’s norther...</td>\n",
       "      <td>None</td>\n",
       "      <td>After several explosions struck Iraq’s norther...</td>\n",
       "      <td>Foreign</td>\n",
       "      <td>807</td>\n",
       "      <td>The New York Times</td>\n",
       "      <td>World</td>\n",
       "      <td>Middle East</td>\n",
       "      <td>524939c438f0d8198973f186</td>\n",
       "      <td>2013-10-01T00:00:00Z</td>\n",
       "      <td></td>\n",
       "      <td>Once-Calm Area of Iraq Is Shaken by Bombings</td>\n",
       "      <td>baghdad several explosion suicide bomber struc...</td>\n",
       "    </tr>\n",
       "    <tr>\n",
       "      <td>1403</td>\n",
       "      <td>article</td>\n",
       "      <td>http://www.nytimes.com/2013/09/30/business/a-w...</td>\n",
       "      <td>Factories are finding that years of doing busi...</td>\n",
       "      <td>\"Manufacturers, attempting to meet rising dema...</td>\n",
       "      <td>Factories are finding that years of doing busi...</td>\n",
       "      <td>Business</td>\n",
       "      <td>2867</td>\n",
       "      <td>The New York Times</td>\n",
       "      <td>Business Day</td>\n",
       "      <td>None</td>\n",
       "      <td>5248d7ac38f0d8198973ee94</td>\n",
       "      <td>2013-09-30T00:00:00Z</td>\n",
       "      <td>1</td>\n",
       "      <td>A Wave of Sewing Jobs as Orders Pile Up at U.S...</td>\n",
       "      <td>minneapolis it past quitting time new textile ...</td>\n",
       "    </tr>\n",
       "    <tr>\n",
       "      <td>1404</td>\n",
       "      <td>article</td>\n",
       "      <td>http://www.nytimes.com/2014/02/16/magazine/wen...</td>\n",
       "      <td>A Texas-size tale of ambition, motherhood and ...</td>\n",
       "      <td>None</td>\n",
       "      <td>A Texas-size tale of ambition, motherhood and ...</td>\n",
       "      <td>Magazine</td>\n",
       "      <td>7541</td>\n",
       "      <td>The New York Times</td>\n",
       "      <td>Magazine</td>\n",
       "      <td>None</td>\n",
       "      <td>52fb462738f0d812174eeaf3</td>\n",
       "      <td>2014-02-16T00:00:00Z</td>\n",
       "      <td>None</td>\n",
       "      <td>Can Wendy Davis Have It All?</td>\n",
       "      <td>one sunny friday morning late january wendy da...</td>\n",
       "    </tr>\n",
       "  </tbody>\n",
       "</table>\n",
       "<p>1405 rows × 15 columns</p>\n",
       "</div>"
      ],
      "text/plain": [
       "     document_type                                            web_url  \\\n",
       "0          article  http://www.nytimes.com/2013/10/03/sports/footb...   \n",
       "1          article  http://www.nytimes.com/2013/10/03/us/new-immig...   \n",
       "2          article  http://www.nytimes.com/2013/10/03/us/arizona-j...   \n",
       "3          article  http://www.nytimes.com/2013/10/03/us/texas-sta...   \n",
       "4          article  http://www.nytimes.com/2013/10/03/sports/tenni...   \n",
       "...            ...                                                ...   \n",
       "1400       article  http://www.nytimes.com/2013/10/01/us/politics/...   \n",
       "1401       article  http://www.nytimes.com/2013/10/01/opinion/the-...   \n",
       "1402       article  http://www.nytimes.com/2013/10/01/world/middle...   \n",
       "1403       article  http://www.nytimes.com/2013/09/30/business/a-w...   \n",
       "1404       article  http://www.nytimes.com/2014/02/16/magazine/wen...   \n",
       "\n",
       "                                         lead_paragraph  \\\n",
       "0     You would think that in a symmetric zero-sum s...   \n",
       "1     House Democrats on Wednesday unveiled an immig...   \n",
       "2     A federal judge on Wednesday ordered the appoi...   \n",
       "3     Texas has turned to a compounding pharmacy to ...   \n",
       "4     Rafael Nadal, aiming to end Novak Djokovic’s r...   \n",
       "...                                                 ...   \n",
       "1400  The federal government will shut down for the ...   \n",
       "1401  Al Shabab helps finance terrorist operations b...   \n",
       "1402  After several explosions struck Iraq’s norther...   \n",
       "1403  Factories are finding that years of doing busi...   \n",
       "1404  A Texas-size tale of ambition, motherhood and ...   \n",
       "\n",
       "                                               abstract  \\\n",
       "0                                                  None   \n",
       "1     House Democrats unveil immigration bill that p...   \n",
       "2     Federal Judge Murray Snow orders the appointme...   \n",
       "3     Documents show that Texas, nation's most activ...   \n",
       "4                                                  None   \n",
       "...                                                 ...   \n",
       "1400  \"Federal government will shut down for the fir...   \n",
       "1401                                               None   \n",
       "1402                                               None   \n",
       "1403  \"Manufacturers, attempting to meet rising dema...   \n",
       "1404                                               None   \n",
       "\n",
       "                                                snippet news_desk word_count  \\\n",
       "0     You would think that in a symmetric zero-sum s...    Sports        347   \n",
       "1     House Democrats on Wednesday unveiled an immig...  National         83   \n",
       "2     A federal judge on Wednesday ordered the appoi...  National        160   \n",
       "3     Texas has turned to a compounding pharmacy to ...  National        112   \n",
       "4     Rafael Nadal, aiming to end Novak Djokovic’s r...    Sports         49   \n",
       "...                                                 ...       ...        ...   \n",
       "1400  The federal government will shut down for the ...  National       1227   \n",
       "1401  Al Shabab helps finance terrorist operations b...      OpEd        781   \n",
       "1402  After several explosions struck Iraq’s norther...   Foreign        807   \n",
       "1403  Factories are finding that years of doing busi...  Business       2867   \n",
       "1404  A Texas-size tale of ambition, motherhood and ...  Magazine       7541   \n",
       "\n",
       "                            source  section_name subsection_name  \\\n",
       "0               The New York Times        Sports    Pro Football   \n",
       "1               The New York Times          U.S.            None   \n",
       "2               The New York Times          U.S.            None   \n",
       "3               The New York Times          U.S.            None   \n",
       "4               The New York Times        Sports          Tennis   \n",
       "...                            ...           ...             ...   \n",
       "1400            The New York Times          U.S.        Politics   \n",
       "1401  International Herald Tribune       Opinion            None   \n",
       "1402            The New York Times         World     Middle East   \n",
       "1403            The New York Times  Business Day            None   \n",
       "1404            The New York Times      Magazine            None   \n",
       "\n",
       "                           _id              pub_date print_page  \\\n",
       "0     524d4e3a38f0d8198974001f  2013-10-03T00:00:00Z       None   \n",
       "1     524cf71338f0d8198973ff7b  2013-10-03T00:00:00Z         21   \n",
       "2     524cf50e38f0d8198973ff79  2013-10-03T00:00:00Z         21   \n",
       "3     524cf39a38f0d8198973ff78  2013-10-03T00:00:00Z         21   \n",
       "4     524cf28b38f0d8198973ff73  2013-10-03T00:00:00Z         14   \n",
       "...                        ...                   ...        ...   \n",
       "1400  5249957e38f0d8198973f471  2013-10-01T00:00:00Z          1   \n",
       "1401  524966da38f0d8198973f2ef  2013-10-01T00:00:00Z              \n",
       "1402  524939c438f0d8198973f186  2013-10-01T00:00:00Z              \n",
       "1403  5248d7ac38f0d8198973ee94  2013-09-30T00:00:00Z          1   \n",
       "1404  52fb462738f0d812174eeaf3  2014-02-16T00:00:00Z       None   \n",
       "\n",
       "                                               headline  \\\n",
       "0     Week 5 Probabilities: Why Offense Is More Impo...   \n",
       "1                      New Immigration Bill Put Forward   \n",
       "2     Arizona: Judge Orders Monitor to Oversee Maric...   \n",
       "3     Texas: State Bought Execution Drugs From a Com...   \n",
       "4                         Nadal on Track for No. 1 Spot   \n",
       "...                                                 ...   \n",
       "1400            Government Shuts Down in Budget Impasse   \n",
       "1401                            The White Gold of Jihad   \n",
       "1402       Once-Calm Area of Iraq Is Shaken by Bombings   \n",
       "1403  A Wave of Sewing Jobs as Orders Pile Up at U.S...   \n",
       "1404                       Can Wendy Davis Have It All?   \n",
       "\n",
       "                                                content  \n",
       "0     the original goal building model football fore...  \n",
       "1     house unveiled immigration bill provides path ...  \n",
       "2     federal judge wednesday ordered appointment in...  \n",
       "3     texas nation’s active death-penalty state turn...  \n",
       "4     rafael nadal aiming end novak djokovic’s run 1...  \n",
       "...                                                 ...  \n",
       "1400  washington flurry last-minute move house senat...  \n",
       "1401  how carnage upscale shopping mall nairobi link...  \n",
       "1402  baghdad several explosion suicide bomber struc...  \n",
       "1403  minneapolis it past quitting time new textile ...  \n",
       "1404  one sunny friday morning late january wendy da...  \n",
       "\n",
       "[1405 rows x 15 columns]"
      ]
     },
     "execution_count": 4,
     "metadata": {},
     "output_type": "execute_result"
    }
   ],
   "source": [
    "d"
   ]
  },
  {
   "cell_type": "code",
   "execution_count": 35,
   "metadata": {},
   "outputs": [
    {
     "data": {
      "text/plain": [
       "array(['Sports', 'National', 'Business', 'Foreign', 'Letters',\n",
       "       'Editorial', 'OpEd', 'Culture', 'Travel', 'Metro',\n",
       "       'SundayBusiness', 'Arts&Leisure', 'Magazine', 'Weekend',\n",
       "       'RealEstate', 'BookReview', 'NewsDesk', 'NODESK'], dtype=object)"
      ]
     },
     "execution_count": 35,
     "metadata": {},
     "output_type": "execute_result"
    }
   ],
   "source": [
    "d.news_desk.unique()"
   ]
  },
  {
   "cell_type": "code",
   "execution_count": 36,
   "metadata": {},
   "outputs": [
    {
     "data": {
      "text/plain": [
       "18"
      ]
     },
     "execution_count": 36,
     "metadata": {},
     "output_type": "execute_result"
    }
   ],
   "source": [
    "len(d.news_desk.unique())"
   ]
  },
  {
   "cell_type": "code",
   "execution_count": 5,
   "metadata": {},
   "outputs": [],
   "source": [
    "corpus = d['content']"
   ]
  },
  {
   "cell_type": "code",
   "execution_count": 6,
   "metadata": {},
   "outputs": [
    {
     "data": {
      "text/plain": [
       "0    the original goal building model football fore...\n",
       "1    house unveiled immigration bill provides path ...\n",
       "2    federal judge wednesday ordered appointment in...\n",
       "3    texas nation’s active death-penalty state turn...\n",
       "4    rafael nadal aiming end novak djokovic’s run 1...\n",
       "Name: content, dtype: object"
      ]
     },
     "execution_count": 6,
     "metadata": {},
     "output_type": "execute_result"
    }
   ],
   "source": [
    "corpus.head()"
   ]
  },
  {
   "cell_type": "markdown",
   "metadata": {},
   "source": [
    "## Clean up the texts\n",
    "We'll use [`spacy`](https://spacy.io/usage/spacy-101) python package to preprocess the corpus."
   ]
  },
  {
   "cell_type": "code",
   "execution_count": 7,
   "metadata": {
    "scrolled": true
   },
   "outputs": [
    {
     "name": "stdout",
     "output_type": "stream",
     "text": [
      "Requirement already satisfied: spacy in /home/libphy/anaconda3/envs/test/lib/python3.7/site-packages (2.2.4)\n",
      "Requirement already satisfied: preshed<3.1.0,>=3.0.2 in /home/libphy/anaconda3/envs/test/lib/python3.7/site-packages (from spacy) (3.0.2)\n",
      "Requirement already satisfied: cymem<2.1.0,>=2.0.2 in /home/libphy/anaconda3/envs/test/lib/python3.7/site-packages (from spacy) (2.0.3)\n",
      "Requirement already satisfied: murmurhash<1.1.0,>=0.28.0 in /home/libphy/anaconda3/envs/test/lib/python3.7/site-packages (from spacy) (1.0.2)\n",
      "Requirement already satisfied: thinc==7.4.0 in /home/libphy/anaconda3/envs/test/lib/python3.7/site-packages (from spacy) (7.4.0)\n",
      "Requirement already satisfied: blis<0.5.0,>=0.4.0 in /home/libphy/anaconda3/envs/test/lib/python3.7/site-packages (from spacy) (0.4.1)\n",
      "Requirement already satisfied: setuptools in /home/libphy/anaconda3/envs/test/lib/python3.7/site-packages (from spacy) (41.4.0)\n",
      "Requirement already satisfied: numpy>=1.15.0 in /home/libphy/anaconda3/envs/test/lib/python3.7/site-packages (from spacy) (1.17.2)\n",
      "Requirement already satisfied: srsly<1.1.0,>=1.0.2 in /home/libphy/anaconda3/envs/test/lib/python3.7/site-packages (from spacy) (1.0.2)\n",
      "Requirement already satisfied: catalogue<1.1.0,>=0.0.7 in /home/libphy/anaconda3/envs/test/lib/python3.7/site-packages (from spacy) (1.0.0)\n",
      "Requirement already satisfied: tqdm<5.0.0,>=4.38.0 in /home/libphy/anaconda3/envs/test/lib/python3.7/site-packages (from spacy) (4.43.0)\n",
      "Requirement already satisfied: wasabi<1.1.0,>=0.4.0 in /home/libphy/anaconda3/envs/test/lib/python3.7/site-packages (from spacy) (0.6.0)\n",
      "Requirement already satisfied: plac<1.2.0,>=0.9.6 in /home/libphy/anaconda3/envs/test/lib/python3.7/site-packages (from spacy) (1.1.3)\n",
      "Requirement already satisfied: requests<3.0.0,>=2.13.0 in /home/libphy/anaconda3/envs/test/lib/python3.7/site-packages (from spacy) (2.22.0)\n",
      "Requirement already satisfied: importlib-metadata>=0.20; python_version < \"3.8\" in /home/libphy/anaconda3/envs/test/lib/python3.7/site-packages (from catalogue<1.1.0,>=0.0.7->spacy) (0.23)\n",
      "Requirement already satisfied: urllib3!=1.25.0,!=1.25.1,<1.26,>=1.21.1 in /home/libphy/anaconda3/envs/test/lib/python3.7/site-packages (from requests<3.0.0,>=2.13.0->spacy) (1.24.2)\n",
      "Requirement already satisfied: idna<2.9,>=2.5 in /home/libphy/anaconda3/envs/test/lib/python3.7/site-packages (from requests<3.0.0,>=2.13.0->spacy) (2.8)\n",
      "Requirement already satisfied: certifi>=2017.4.17 in /home/libphy/anaconda3/envs/test/lib/python3.7/site-packages (from requests<3.0.0,>=2.13.0->spacy) (2019.11.28)\n",
      "Requirement already satisfied: chardet<3.1.0,>=3.0.2 in /home/libphy/anaconda3/envs/test/lib/python3.7/site-packages (from requests<3.0.0,>=2.13.0->spacy) (3.0.4)\n",
      "Requirement already satisfied: zipp>=0.5 in /home/libphy/anaconda3/envs/test/lib/python3.7/site-packages (from importlib-metadata>=0.20; python_version < \"3.8\"->catalogue<1.1.0,>=0.0.7->spacy) (0.6.0)\n",
      "Requirement already satisfied: more-itertools in /home/libphy/anaconda3/envs/test/lib/python3.7/site-packages (from zipp>=0.5->importlib-metadata>=0.20; python_version < \"3.8\"->catalogue<1.1.0,>=0.0.7->spacy) (7.2.0)\n"
     ]
    }
   ],
   "source": [
    "!pip install spacy"
   ]
  },
  {
   "cell_type": "code",
   "execution_count": 8,
   "metadata": {
    "scrolled": true
   },
   "outputs": [
    {
     "name": "stdout",
     "output_type": "stream",
     "text": [
      "Requirement already satisfied: en_core_web_sm==2.2.5 from https://github.com/explosion/spacy-models/releases/download/en_core_web_sm-2.2.5/en_core_web_sm-2.2.5.tar.gz#egg=en_core_web_sm==2.2.5 in /home/libphy/anaconda3/envs/test/lib/python3.7/site-packages (2.2.5)\n",
      "Requirement already satisfied: spacy>=2.2.2 in /home/libphy/anaconda3/envs/test/lib/python3.7/site-packages (from en_core_web_sm==2.2.5) (2.2.4)\n",
      "Requirement already satisfied: setuptools in /home/libphy/anaconda3/envs/test/lib/python3.7/site-packages (from spacy>=2.2.2->en_core_web_sm==2.2.5) (41.4.0)\n",
      "Requirement already satisfied: plac<1.2.0,>=0.9.6 in /home/libphy/anaconda3/envs/test/lib/python3.7/site-packages (from spacy>=2.2.2->en_core_web_sm==2.2.5) (1.1.3)\n",
      "Requirement already satisfied: blis<0.5.0,>=0.4.0 in /home/libphy/anaconda3/envs/test/lib/python3.7/site-packages (from spacy>=2.2.2->en_core_web_sm==2.2.5) (0.4.1)\n",
      "Requirement already satisfied: requests<3.0.0,>=2.13.0 in /home/libphy/anaconda3/envs/test/lib/python3.7/site-packages (from spacy>=2.2.2->en_core_web_sm==2.2.5) (2.22.0)\n",
      "Requirement already satisfied: wasabi<1.1.0,>=0.4.0 in /home/libphy/anaconda3/envs/test/lib/python3.7/site-packages (from spacy>=2.2.2->en_core_web_sm==2.2.5) (0.6.0)\n",
      "Requirement already satisfied: murmurhash<1.1.0,>=0.28.0 in /home/libphy/anaconda3/envs/test/lib/python3.7/site-packages (from spacy>=2.2.2->en_core_web_sm==2.2.5) (1.0.2)\n",
      "Requirement already satisfied: preshed<3.1.0,>=3.0.2 in /home/libphy/anaconda3/envs/test/lib/python3.7/site-packages (from spacy>=2.2.2->en_core_web_sm==2.2.5) (3.0.2)\n",
      "Requirement already satisfied: thinc==7.4.0 in /home/libphy/anaconda3/envs/test/lib/python3.7/site-packages (from spacy>=2.2.2->en_core_web_sm==2.2.5) (7.4.0)\n",
      "Requirement already satisfied: numpy>=1.15.0 in /home/libphy/anaconda3/envs/test/lib/python3.7/site-packages (from spacy>=2.2.2->en_core_web_sm==2.2.5) (1.17.2)\n",
      "Requirement already satisfied: cymem<2.1.0,>=2.0.2 in /home/libphy/anaconda3/envs/test/lib/python3.7/site-packages (from spacy>=2.2.2->en_core_web_sm==2.2.5) (2.0.3)\n",
      "Requirement already satisfied: catalogue<1.1.0,>=0.0.7 in /home/libphy/anaconda3/envs/test/lib/python3.7/site-packages (from spacy>=2.2.2->en_core_web_sm==2.2.5) (1.0.0)\n",
      "Requirement already satisfied: tqdm<5.0.0,>=4.38.0 in /home/libphy/anaconda3/envs/test/lib/python3.7/site-packages (from spacy>=2.2.2->en_core_web_sm==2.2.5) (4.43.0)\n",
      "Requirement already satisfied: srsly<1.1.0,>=1.0.2 in /home/libphy/anaconda3/envs/test/lib/python3.7/site-packages (from spacy>=2.2.2->en_core_web_sm==2.2.5) (1.0.2)\n",
      "Requirement already satisfied: urllib3!=1.25.0,!=1.25.1,<1.26,>=1.21.1 in /home/libphy/anaconda3/envs/test/lib/python3.7/site-packages (from requests<3.0.0,>=2.13.0->spacy>=2.2.2->en_core_web_sm==2.2.5) (1.24.2)\n",
      "Requirement already satisfied: idna<2.9,>=2.5 in /home/libphy/anaconda3/envs/test/lib/python3.7/site-packages (from requests<3.0.0,>=2.13.0->spacy>=2.2.2->en_core_web_sm==2.2.5) (2.8)\n",
      "Requirement already satisfied: chardet<3.1.0,>=3.0.2 in /home/libphy/anaconda3/envs/test/lib/python3.7/site-packages (from requests<3.0.0,>=2.13.0->spacy>=2.2.2->en_core_web_sm==2.2.5) (3.0.4)\n",
      "Requirement already satisfied: certifi>=2017.4.17 in /home/libphy/anaconda3/envs/test/lib/python3.7/site-packages (from requests<3.0.0,>=2.13.0->spacy>=2.2.2->en_core_web_sm==2.2.5) (2019.11.28)\n",
      "Requirement already satisfied: importlib-metadata>=0.20; python_version < \"3.8\" in /home/libphy/anaconda3/envs/test/lib/python3.7/site-packages (from catalogue<1.1.0,>=0.0.7->spacy>=2.2.2->en_core_web_sm==2.2.5) (0.23)\n",
      "Requirement already satisfied: zipp>=0.5 in /home/libphy/anaconda3/envs/test/lib/python3.7/site-packages (from importlib-metadata>=0.20; python_version < \"3.8\"->catalogue<1.1.0,>=0.0.7->spacy>=2.2.2->en_core_web_sm==2.2.5) (0.6.0)\n",
      "Requirement already satisfied: more-itertools in /home/libphy/anaconda3/envs/test/lib/python3.7/site-packages (from zipp>=0.5->importlib-metadata>=0.20; python_version < \"3.8\"->catalogue<1.1.0,>=0.0.7->spacy>=2.2.2->en_core_web_sm==2.2.5) (7.2.0)\n",
      "\u001b[38;5;2m✔ Download and installation successful\u001b[0m\n",
      "You can now load the model via spacy.load('en_core_web_sm')\n"
     ]
    }
   ],
   "source": [
    "!python -m spacy download en_core_web_sm"
   ]
  },
  {
   "cell_type": "code",
   "execution_count": 9,
   "metadata": {},
   "outputs": [
    {
     "name": "stderr",
     "output_type": "stream",
     "text": [
      "/home/libphy/anaconda3/envs/test/lib/python3.7/site-packages/sklearn/utils/deprecation.py:144: FutureWarning: The sklearn.feature_extraction.stop_words module is  deprecated in version 0.22 and will be removed in version 0.24. The corresponding classes / functions should instead be imported from sklearn.feature_extraction.text. Anything that cannot be imported from sklearn.feature_extraction.text is now part of the private API.\n",
      "  warnings.warn(message, FutureWarning)\n"
     ]
    }
   ],
   "source": [
    "import sys\n",
    "import spacy\n",
    "from string import punctuation\n",
    "from sklearn.feature_extraction.stop_words import ENGLISH_STOP_WORDS"
   ]
  },
  {
   "cell_type": "code",
   "execution_count": 10,
   "metadata": {},
   "outputs": [
    {
     "name": "stdout",
     "output_type": "stream",
     "text": [
      "Loading English Module...\n"
     ]
    }
   ],
   "source": [
    "# # Load the spacy.en module if it hasn't been loaded already\n",
    "# # When in ipython, execute the script using %run -i my_file.py to avoid\n",
    "# # repeatedly loading in the english module\n",
    "\n",
    "if not 'nlp' in locals():\n",
    "    print(\"Loading English Module...\")\n",
    "    nlp = spacy.load(\"en_core_web_sm\")\n",
    "\n",
    "def lemmatize_string(doc, stop_words):\n",
    "    # First remove punctuation form string\n",
    "    # .translate works differently from 2 to 3 so check version number\n",
    "    if sys.version_info.major == 3:\n",
    "        PUNCT_DICT = {ord(punc): None for punc in punctuation}\n",
    "        doc = doc.translate(PUNCT_DICT)\n",
    "    else:\n",
    "        # spaCy expects a unicode object\n",
    "        doc = unicode(doc.translate(None, punctuation))\n",
    "\n",
    "    # Run the doc through spaCy\n",
    "    doc = nlp(doc)\n",
    "\n",
    "    # Lemmatize and lower text\n",
    "    tokens = [token.lemma_.lower() for token in doc]\n",
    "\n",
    "    return ' '.join(w for w in tokens if w not in stop_words)"
   ]
  },
  {
   "cell_type": "code",
   "execution_count": 11,
   "metadata": {},
   "outputs": [],
   "source": [
    "# Example of extending our STOPLIST\n",
    "STOPLIST = set(list(ENGLISH_STOP_WORDS) + [\"n't\", \"'s\", \"'m\"])\n",
    "\n",
    "processed = [lemmatize_string(doc, STOPLIST) for doc in corpus]"
   ]
  },
  {
   "cell_type": "code",
   "execution_count": 12,
   "metadata": {},
   "outputs": [
    {
     "data": {
      "text/plain": [
       "list"
      ]
     },
     "execution_count": 12,
     "metadata": {},
     "output_type": "execute_result"
    }
   ],
   "source": [
    "type(processed)"
   ]
  },
  {
   "cell_type": "code",
   "execution_count": 13,
   "metadata": {},
   "outputs": [
    {
     "data": {
      "text/plain": [
       "1405"
      ]
     },
     "execution_count": 13,
     "metadata": {},
     "output_type": "execute_result"
    }
   ],
   "source": [
    "len(processed)"
   ]
  },
  {
   "cell_type": "code",
   "execution_count": 14,
   "metadata": {},
   "outputs": [
    {
     "data": {
      "text/plain": [
       "str"
      ]
     },
     "execution_count": 14,
     "metadata": {},
     "output_type": "execute_result"
    }
   ],
   "source": [
    "type(processed[0])"
   ]
  },
  {
   "cell_type": "code",
   "execution_count": 15,
   "metadata": {},
   "outputs": [
    {
     "data": {
      "text/plain": [
       "'original goal building model football forecasting weigh importance facet game particular want know offense important defense defense really win championship \" ’ important tricky question -pron- think symmetric zerosum sport like football offense defense equally important winning yard point gain offensive squad defensive squad surrender equal yard point ’ true game level aggregate squad performance team total number yard point gain surrender symmetric distribution offense wider word really good really bad offense average defense -pron- use advanced metric team performance like expect point add epa win probability add wpa measure spread performance standard deviation distribution tell u wide statistic distribute bell curve wide narrow 2000 season standard deviation epa 81 point team offense 65 point team defense wpa -pron- ’ 26 win team offense 20 win team defense measure 30 percent big offense defense lesson exercise team choose rank league ball average choose good offense -pron- explain great offensive team tend beat great defensive team week ’s game colt seahawks indianapolis feature defense point allow good offense eighth point score contrary conventional opinion number like offense probability week right brian burke operate advanced nfl stat original goal building model football forecasting weigh importance facet game particular want know offense important defense defense really win championship \" ’ important tricky question -pron- think symmetric zerosum sport like football offense defense equally important winning yard point gain offensive squad defensive squad surrender equal yard point ’ true game level aggregate squad performance team total number yard point gain surrender symmetric distribution offense wider word really good really bad offense average defense -pron- use advanced metric team performance like expect point add epa win probability add wpa measure spread performance standard deviation distribution tell u wide statistic distribute bell curve wide narrow 2000 season standard deviation epa 81 point team offense 65 point team defense wpa -pron- ’ 26 win team offense 20 win team defense measure 30 percent big offense defense lesson exercise team choose rank league ball average choose good offense -pron- explain great offensive team tend beat great defensive team week ’s game colt seahawks indianapolis feature defense point allow good offense eighth point score contrary conventional opinion number like offense probability week right brian burke operate advanced nfl stat'"
      ]
     },
     "execution_count": 15,
     "metadata": {},
     "output_type": "execute_result"
    }
   ],
   "source": [
    "processed[0]"
   ]
  },
  {
   "cell_type": "code",
   "execution_count": 16,
   "metadata": {},
   "outputs": [
    {
     "data": {
      "text/plain": [
       "'house unveil immigration provide path citizenship 11 million immigrant live illegally tighten border security warn political fallout house republican fail act combine element senate pass june border security legislation win unanimous support homeland security committee house republican reject comprehensive approach question offer citizenship people break immigration law house unveil immigration provide path citizenship 11 million immigrant live illegally tighten border security warn political fallout house republican fail act combine element senate pass june border security legislation win unanimous support homeland security committee house republican reject comprehensive approach question offer citizenship people break immigration law'"
      ]
     },
     "execution_count": 16,
     "metadata": {},
     "output_type": "execute_result"
    }
   ],
   "source": [
    "processed[1]"
   ]
  },
  {
   "cell_type": "code",
   "execution_count": 18,
   "metadata": {},
   "outputs": [
    {
     "name": "stdout",
     "output_type": "stream",
     "text": [
      "['and', 'corpus', 'document', 'here', 'is', 'it', 'my', 'of', 'other', 'says', 'some', 'stuff', 'text', 'things']\n"
     ]
    }
   ],
   "source": [
    "from sklearn.feature_extraction.text import TfidfVectorizer\n",
    "c_train = ['Here is my corpus of text it says stuff and things','Here is some other document']\n",
    "c_test = ['Yet another document','This time to test on']\n",
    "\n",
    "tfidf = TfidfVectorizer()\n",
    "tfidf.fit(c_train)\n",
    "\n",
    "test_arr = tfidf.transform(c_test).todense()\n",
    "print(tfidf.get_feature_names())"
   ]
  },
  {
   "cell_type": "code",
   "execution_count": 19,
   "metadata": {},
   "outputs": [
    {
     "name": "stdout",
     "output_type": "stream",
     "text": [
      "['and', 'document', 'first', 'is', 'one', 'second', 'the', 'third', 'this']\n"
     ]
    }
   ],
   "source": [
    "corpus = ['This is the first document.',\n",
    "        'This document is the second document.',\n",
    "        'And this is the third one.',\n",
    "        'Is this the first document?']\n",
    "vectorizer = TfidfVectorizer()\n",
    "X = vectorizer.fit_transform(corpus)\n",
    "print(vectorizer.get_feature_names())"
   ]
  },
  {
   "cell_type": "code",
   "execution_count": 24,
   "metadata": {},
   "outputs": [
    {
     "data": {
      "text/plain": [
       "scipy.sparse.csr.csr_matrix"
      ]
     },
     "execution_count": 24,
     "metadata": {},
     "output_type": "execute_result"
    }
   ],
   "source": [
    "type(X)"
   ]
  },
  {
   "cell_type": "code",
   "execution_count": 23,
   "metadata": {},
   "outputs": [
    {
     "data": {
      "text/plain": [
       "matrix([[0.        , 0.46979139, 0.58028582, 0.38408524, 0.        ,\n",
       "         0.        , 0.38408524, 0.        , 0.38408524],\n",
       "        [0.        , 0.6876236 , 0.        , 0.28108867, 0.        ,\n",
       "         0.53864762, 0.28108867, 0.        , 0.28108867],\n",
       "        [0.51184851, 0.        , 0.        , 0.26710379, 0.51184851,\n",
       "         0.        , 0.26710379, 0.51184851, 0.26710379],\n",
       "        [0.        , 0.46979139, 0.58028582, 0.38408524, 0.        ,\n",
       "         0.        , 0.38408524, 0.        , 0.38408524]])"
      ]
     },
     "execution_count": 23,
     "metadata": {},
     "output_type": "execute_result"
    }
   ],
   "source": [
    "X.todense()"
   ]
  },
  {
   "cell_type": "markdown",
   "metadata": {},
   "source": [
    "### Let's apply it to the corpus"
   ]
  },
  {
   "cell_type": "code",
   "execution_count": 27,
   "metadata": {},
   "outputs": [
    {
     "data": {
      "text/plain": [
       "TfidfVectorizer(analyzer='word', binary=False, decode_error='strict',\n",
       "                dtype=<class 'numpy.float64'>, encoding='utf-8',\n",
       "                input='content', lowercase=True, max_df=1.0, max_features=None,\n",
       "                min_df=1, ngram_range=(1, 1), norm='l2', preprocessor=None,\n",
       "                smooth_idf=True, stop_words=None, strip_accents=None,\n",
       "                sublinear_tf=False, token_pattern='(?u)\\\\b\\\\w\\\\w+\\\\b',\n",
       "                tokenizer=None, use_idf=True, vocabulary=None)"
      ]
     },
     "execution_count": 27,
     "metadata": {},
     "output_type": "execute_result"
    }
   ],
   "source": [
    "tfidf = TfidfVectorizer()\n",
    "tfidf.fit(processed)"
   ]
  },
  {
   "cell_type": "code",
   "execution_count": 28,
   "metadata": {},
   "outputs": [],
   "source": [
    "X = tfidf.fit_transform(processed)"
   ]
  },
  {
   "cell_type": "code",
   "execution_count": 29,
   "metadata": {},
   "outputs": [
    {
     "data": {
      "text/plain": [
       "(1405, 34917)"
      ]
     },
     "execution_count": 29,
     "metadata": {},
     "output_type": "execute_result"
    }
   ],
   "source": [
    "X.shape"
   ]
  },
  {
   "cell_type": "code",
   "execution_count": 34,
   "metadata": {},
   "outputs": [
    {
     "data": {
      "text/plain": [
       "matrix([[0., 0., 0., 0., 0., 0., 0., 0., 0., 0.],\n",
       "        [0., 0., 0., 0., 0., 0., 0., 0., 0., 0.],\n",
       "        [0., 0., 0., 0., 0., 0., 0., 0., 0., 0.],\n",
       "        [0., 0., 0., 0., 0., 0., 0., 0., 0., 0.],\n",
       "        [0., 0., 0., 0., 0., 0., 0., 0., 0., 0.]])"
      ]
     },
     "execution_count": 34,
     "metadata": {},
     "output_type": "execute_result"
    }
   ],
   "source": [
    "X[:5,:10].todense() #mostly zero"
   ]
  },
  {
   "cell_type": "code",
   "execution_count": 45,
   "metadata": {},
   "outputs": [
    {
     "data": {
      "text/plain": [
       "['109000',\n",
       " '1093',\n",
       " '1095',\n",
       " '109955',\n",
       " '10day',\n",
       " '10foot',\n",
       " '10game',\n",
       " '10hole',\n",
       " '10inning',\n",
       " '10k']"
      ]
     },
     "execution_count": 45,
     "metadata": {},
     "output_type": "execute_result"
    }
   ],
   "source": [
    "tfidf.get_feature_names()[100:110]"
   ]
  },
  {
   "cell_type": "code",
   "execution_count": 48,
   "metadata": {},
   "outputs": [
    {
     "data": {
      "text/plain": [
       "['enter',\n",
       " 'entered',\n",
       " 'entering',\n",
       " 'enterprise',\n",
       " 'enterprising',\n",
       " 'entertain',\n",
       " 'entertainer',\n",
       " 'entertaining',\n",
       " 'entertainment',\n",
       " 'enthral']"
      ]
     },
     "execution_count": 48,
     "metadata": {},
     "output_type": "execute_result"
    }
   ],
   "source": [
    "tfidf.get_feature_names()[11200:11210]"
   ]
  },
  {
   "cell_type": "code",
   "execution_count": 41,
   "metadata": {},
   "outputs": [],
   "source": [
    "tfidf2 = TfidfVectorizer(ngram_range=(1,2)) #include bigram\n",
    "X2 = tfidf2.fit_transform(processed)"
   ]
  },
  {
   "cell_type": "code",
   "execution_count": 42,
   "metadata": {},
   "outputs": [
    {
     "data": {
      "text/plain": [
       "(1405, 376259)"
      ]
     },
     "execution_count": 42,
     "metadata": {},
     "output_type": "execute_result"
    }
   ],
   "source": [
    "X2.shape"
   ]
  },
  {
   "cell_type": "code",
   "execution_count": 49,
   "metadata": {},
   "outputs": [
    {
     "data": {
      "text/plain": [
       "['041',\n",
       " '041 percent',\n",
       " '045',\n",
       " '045 earn',\n",
       " '046',\n",
       " '046 correlation',\n",
       " '047',\n",
       " '047 percent',\n",
       " '05',\n",
       " '05 finish']"
      ]
     },
     "execution_count": 49,
     "metadata": {},
     "output_type": "execute_result"
    }
   ],
   "source": [
    "tfidf2.get_feature_names()[100:110]"
   ]
  },
  {
   "cell_type": "code",
   "execution_count": 50,
   "metadata": {},
   "outputs": [
    {
     "data": {
      "text/plain": [
       "['8000 yard',\n",
       " '80000',\n",
       " '80000 president',\n",
       " '80000 ticket',\n",
       " '800000',\n",
       " '800000 civilian',\n",
       " '800000 employee',\n",
       " '800000 federal',\n",
       " '800000 furlough',\n",
       " '800000 government']"
      ]
     },
     "execution_count": 50,
     "metadata": {},
     "output_type": "execute_result"
    }
   ],
   "source": [
    "tfidf2.get_feature_names()[11200:11210]"
   ]
  },
  {
   "cell_type": "code",
   "execution_count": 51,
   "metadata": {},
   "outputs": [],
   "source": [
    "from sklearn.decomposition import NMF"
   ]
  },
  {
   "cell_type": "code",
   "execution_count": 52,
   "metadata": {},
   "outputs": [],
   "source": [
    "nmf = NMF(n_components=18, random_state=1, alpha=.1, l1_ratio=.5, init='nndsvd').fit(X2)"
   ]
  },
  {
   "cell_type": "code",
   "execution_count": 56,
   "metadata": {},
   "outputs": [],
   "source": [
    "def display_topics(model, feature_names, no_top_words):\n",
    "    for topic_idx, topic in enumerate(model.components_):\n",
    "        print(\" \".join([feature_names[i]\n",
    "                        for i in topic.argsort()[:-no_top_words - 1:-1]]))"
   ]
  },
  {
   "cell_type": "code",
   "execution_count": 57,
   "metadata": {},
   "outputs": [
    {
     "name": "stdout",
     "output_type": "stream",
     "text": [
      "pron say mr new year people state government work company\n",
      "game season team pron player play league say yankee win\n",
      "iran rouhani mr rouhani nuclear iranian mr netanyahu israel obama mr netanyahu\n",
      "republican house senate shutdown government obama vote care health law\n",
      "rivera yankee pettitte girardi jeter mariano pitch mariano rivera stadium yankee stadium\n",
      "touchdown yard throw yard touchdown quarterback pass score interception giant game\n",
      "percent bank rate market economy investor debt euro central bank bond\n",
      "syria chemical weapon chemical weapon syrian resolution united united nation council security council\n",
      "merkel ms merkel germany party german democrat europe ms social social democrat\n",
      "oracle cup race america cup zealand new zealand team team new boat yacht\n",
      "kenya mall shabab kenyan somalia nairobi attack militant somali official\n",
      "hit wildcard inning run pitch inne homer game win ray\n",
      "health insurance care exchange health care health insurance coverage plan law affordable\n",
      "viewer million viewer rating nbc cbs million 1849 drama break bad abc\n",
      "art museum gallery painting exhibition artist collection visitor photograph paint\n",
      "korea north north korea nuclear korean south china south korea kim south korean\n",
      "golden dawn dawn golden party greek greece police member parliament arrest\n",
      "arctic greenpeace ship oil russian russia putin activist crew murmansk\n"
     ]
    }
   ],
   "source": [
    "feat_names=tfidf2.get_feature_names()\n",
    "no_top_words = 10\n",
    "display_topics(nmf, feat_names, no_top_words)"
   ]
  },
  {
   "cell_type": "code",
   "execution_count": 58,
   "metadata": {},
   "outputs": [
    {
     "data": {
      "text/plain": [
       "array(['Sports', 'National', 'Business', 'Foreign', 'Letters',\n",
       "       'Editorial', 'OpEd', 'Culture', 'Travel', 'Metro',\n",
       "       'SundayBusiness', 'Arts&Leisure', 'Magazine', 'Weekend',\n",
       "       'RealEstate', 'BookReview', 'NewsDesk', 'NODESK'], dtype=object)"
      ]
     },
     "execution_count": 58,
     "metadata": {},
     "output_type": "execute_result"
    }
   ],
   "source": [
    "d.news_desk.unique()"
   ]
  },
  {
   "cell_type": "code",
   "execution_count": null,
   "metadata": {},
   "outputs": [],
   "source": []
  }
 ],
 "metadata": {
  "kernelspec": {
   "display_name": "Python 3",
   "language": "python",
   "name": "python3"
  },
  "language_info": {
   "codemirror_mode": {
    "name": "ipython",
    "version": 3
   },
   "file_extension": ".py",
   "mimetype": "text/x-python",
   "name": "python",
   "nbconvert_exporter": "python",
   "pygments_lexer": "ipython3",
   "version": "3.7.4"
  }
 },
 "nbformat": 4,
 "nbformat_minor": 2
}
